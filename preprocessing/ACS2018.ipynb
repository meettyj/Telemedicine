{
 "cells": [
  {
   "cell_type": "code",
   "execution_count": 2,
   "metadata": {},
   "outputs": [],
   "source": [
    "import pandas as pd "
   ]
  },
  {
   "cell_type": "code",
   "execution_count": 7,
   "metadata": {},
   "outputs": [],
   "source": [
    "data_dir_path = '../data/'\n"
   ]
  },
  {
   "cell_type": "code",
   "execution_count": 25,
   "metadata": {},
   "outputs": [
    {
     "name": "stdout",
     "output_type": "stream",
     "text": [
      "length of zcta5_list:  214\n",
      "zcta5_list[:10]:  ['10271', '10278', '10279', '10280', '10282', '10301', '10302', '10303', '10304', '10305']\n"
     ]
    }
   ],
   "source": [
    "def get_nyc_zcta5():\n",
    "    zcta5_file_name = 'zip_to_zcta10_nyc_revised.xls'\n",
    "    zcta5_df = pd.read_excel(data_dir_path + zcta5_file_name)\n",
    "    zcta5_list = [str(x) for x in set(zcta5_df['zcta5'])]\n",
    "    return zcta5_list\n",
    "zcta5_list = get_nyc_zcta5()\n",
    "print('length of zcta5_list: ', len(zcta5_list))\n",
    "print('zcta5_list[:10]: ', zcta5_list[:10])"
   ]
  },
  {
   "cell_type": "code",
   "execution_count": 46,
   "metadata": {},
   "outputs": [],
   "source": [
    "def get_nyc_only_df(input_df, zcta5_list):\n",
    "    nyc_geo_list = ['8600000US' + x for x in zcta5_list]\n",
    "    print('nyc_geo_list[:10]: ', nyc_geo_list[:10])\n",
    "    # print(input_df['GEO_ID'].isin(nyc_geo_list))\n",
    "    nyc_only_df = input_df[input_df['GEO_ID'].isin(nyc_geo_list)]\n",
    "    nyc_only_df.index = range(len(nyc_only_df)) # set the index from 0\n",
    "    print()\n",
    "    print('nyc_only_df rows: ', nyc_only_df.shape[0])\n",
    "    return nyc_only_df"
   ]
  },
  {
   "cell_type": "markdown",
   "metadata": {},
   "source": [
    "### check the population: B01001\n",
    "the total population of these 214 zip code ares is 8551905"
   ]
  },
  {
   "cell_type": "code",
   "execution_count": 76,
   "metadata": {},
   "outputs": [
    {
     "name": "stdout",
     "output_type": "stream",
     "text": [
      "nyc_geo_list[:10]:  ['8600000US10271', '8600000US10278', '8600000US10279', '8600000US10280', '8600000US10282', '8600000US10301', '8600000US10302', '8600000US10303', '8600000US10304', '8600000US10305']\n",
      "\n",
      "nyc_only_df rows:  214\n",
      "sum of population dict value:  8551905\n"
     ]
    },
    {
     "name": "stderr",
     "output_type": "stream",
     "text": [
      "/Users/meettyj/anaconda3/envs/py36/lib/python3.6/site-packages/IPython/core/interactiveshell.py:3051: DtypeWarning: Columns (2,3,4,5,6,7,8,9,10,11,12,13,14,15,16,17,18,19,20,21,22,23,24,25,26,27,28,29,30,31,32,33,34,35,36,37,38,39,40,41,42,43,44,45,46,47,48,49,50,51,52,53,54,55,56,57,58,59,60,61,62,63,64,65,66,67,68,69,70,71,72,73,74,75,76,77,78,79,80,81,82,83,84,85,86,87,88,89,90,91,92,93,94,95,96,97,98,99) have mixed types.Specify dtype option on import or set low_memory=False.\n",
      "  interactivity=interactivity, compiler=compiler, result=result)\n"
     ]
    }
   ],
   "source": [
    "# read data\n",
    "B01001_dir_path = 'ACSDT5Y2018.B01001_2020-04-15T120015/'\n",
    "B01001_file_name = 'ACSDT5Y2018.B01001_data_with_overlays_2020-04-15T120001.csv'\n",
    "B01001_df = pd.read_csv(data_dir_path + B01001_dir_path + B01001_file_name)\n",
    "\n",
    "# get nyc only data frame\n",
    "B01001_nyc_only_df = get_nyc_only_df(B01001_df, zcta5_list)\n",
    "\n",
    "# get the needed features(columns)\n",
    "temp_total_population_num_feature = 'B01001_001E' # Estimate!!Total\n",
    "\n",
    "# initialization\n",
    "population_dict = {}\n",
    "\n",
    "# result data frame\n",
    "for i, row in B01001_nyc_only_df.iterrows():\n",
    "    # we need to record the population of different zip code areas,\n",
    "    # Since this is the first time to encounter population in different zip code areas.\n",
    "    if row['GEO_ID'] in population_dict:\n",
    "        print('we already have one')\n",
    "    population_dict[row['GEO_ID']] = row[temp_total_population_num_feature]\n",
    "    \n",
    "# test if we get the right population\n",
    "# print('population_dict: ', population_dict)\n",
    "print('sum of population dict value: ', sum([v for _, v in population_dict.items()]))\n"
   ]
  },
  {
   "cell_type": "markdown",
   "metadata": {},
   "source": [
    "### 1. Ratio of women to men (all ages): B05003"
   ]
  },
  {
   "cell_type": "code",
   "execution_count": 110,
   "metadata": {},
   "outputs": [
    {
     "name": "stderr",
     "output_type": "stream",
     "text": [
      "/Users/meettyj/anaconda3/envs/py36/lib/python3.6/site-packages/IPython/core/interactiveshell.py:3051: DtypeWarning: Columns (2,4,5,6,7,8,9,10,11,12,13,14,15,16,17,18,19,20,21,22,23,24,25,26,27,28,29,30,31,32,33,34,35,36,37,38,39,40,41,42,43,44,45,46,47) have mixed types.Specify dtype option on import or set low_memory=False.\n",
      "  interactivity=interactivity, compiler=compiler, result=result)\n"
     ]
    },
    {
     "name": "stdout",
     "output_type": "stream",
     "text": [
      "nyc_geo_list[:10]:  ['8600000US10271', '8600000US10278', '8600000US10279', '8600000US10280', '8600000US10282', '8600000US10301', '8600000US10302', '8600000US10303', '8600000US10304', '8600000US10305']\n",
      "\n",
      "nyc_only_df rows:  214\n",
      "count_exception:  29\n"
     ]
    },
    {
     "data": {
      "text/html": [
       "<div>\n",
       "<style scoped>\n",
       "    .dataframe tbody tr th:only-of-type {\n",
       "        vertical-align: middle;\n",
       "    }\n",
       "\n",
       "    .dataframe tbody tr th {\n",
       "        vertical-align: top;\n",
       "    }\n",
       "\n",
       "    .dataframe thead th {\n",
       "        text-align: right;\n",
       "    }\n",
       "</style>\n",
       "<table border=\"1\" class=\"dataframe\">\n",
       "  <thead>\n",
       "    <tr style=\"text-align: right;\">\n",
       "      <th></th>\n",
       "      <th>GEO_ID</th>\n",
       "      <th>NAME</th>\n",
       "      <th>Ratio_women_to_men</th>\n",
       "    </tr>\n",
       "  </thead>\n",
       "  <tbody>\n",
       "    <tr>\n",
       "      <th>0</th>\n",
       "      <td>8600000US11222</td>\n",
       "      <td>ZCTA5 11222</td>\n",
       "      <td>1.02733</td>\n",
       "    </tr>\n",
       "    <tr>\n",
       "      <th>1</th>\n",
       "      <td>8600000US11233</td>\n",
       "      <td>ZCTA5 11233</td>\n",
       "      <td>1.18882</td>\n",
       "    </tr>\n",
       "    <tr>\n",
       "      <th>2</th>\n",
       "      <td>8600000US11235</td>\n",
       "      <td>ZCTA5 11235</td>\n",
       "      <td>1.0872</td>\n",
       "    </tr>\n",
       "    <tr>\n",
       "      <th>3</th>\n",
       "      <td>8600000US11426</td>\n",
       "      <td>ZCTA5 11426</td>\n",
       "      <td>1.00241</td>\n",
       "    </tr>\n",
       "    <tr>\n",
       "      <th>4</th>\n",
       "      <td>8600000US11427</td>\n",
       "      <td>ZCTA5 11427</td>\n",
       "      <td>1.0223</td>\n",
       "    </tr>\n",
       "  </tbody>\n",
       "</table>\n",
       "</div>"
      ],
      "text/plain": [
       "           GEO_ID         NAME Ratio_women_to_men\n",
       "0  8600000US11222  ZCTA5 11222            1.02733\n",
       "1  8600000US11233  ZCTA5 11233            1.18882\n",
       "2  8600000US11235  ZCTA5 11235             1.0872\n",
       "3  8600000US11426  ZCTA5 11426            1.00241\n",
       "4  8600000US11427  ZCTA5 11427             1.0223"
      ]
     },
     "execution_count": 110,
     "metadata": {},
     "output_type": "execute_result"
    }
   ],
   "source": [
    "# read data\n",
    "B05003_dir_path = 'ACSDT5Y2018.B05003_2020-04-15T173748/'\n",
    "B05003_file_name = 'ACSDT5Y2018.B05003_data_with_overlays_2020-04-15T173740.csv'\n",
    "B05003_df = pd.read_csv(data_dir_path + B05003_dir_path + B05003_file_name)\n",
    "\n",
    "# get nyc only data frame\n",
    "B05003_nyc_only_df = get_nyc_only_df(B05003_df, zcta5_list)\n",
    "\n",
    "# get the needed features(columns)\n",
    "male_num_feature = 'B05003_002E' # Estimate!!Total!!Male\n",
    "female_num_feature = 'B05003_013E' # Estimate!!Total!!Female\n",
    "\n",
    "# result data frame\n",
    "result_df = pd.DataFrame(columns=['GEO_ID', 'NAME', 'Ratio_women_to_men'])\n",
    "count_exception = 0\n",
    "for i, row in B05003_nyc_only_df.iterrows():\n",
    "    try:\n",
    "        result_df.loc[i] = [row['GEO_ID'], row['NAME'], row[female_num_feature]/row[male_num_feature]]\n",
    "    except:\n",
    "        # print(i)\n",
    "        # print('row[female_num_feature]: ', row[female_num_feature])\n",
    "        # print('row[male_num_feature]: ', row[male_num_feature])\n",
    "        count_exception += 1\n",
    "        result_df.loc[i] = [row['GEO_ID'], row['NAME'], 'None'] # Both row[female_num_feature] and row[male_num_feature] is 0\n",
    "\n",
    "print('count_exception: ', count_exception)\n",
    "result_df.head()\n",
    "        "
   ]
  },
  {
   "cell_type": "markdown",
   "metadata": {},
   "source": [
    "### 2. Percent Hispanic or Latino of any race: B03002"
   ]
  },
  {
   "cell_type": "code",
   "execution_count": 111,
   "metadata": {},
   "outputs": [
    {
     "name": "stderr",
     "output_type": "stream",
     "text": [
      "/Users/meettyj/anaconda3/envs/py36/lib/python3.6/site-packages/IPython/core/interactiveshell.py:3051: DtypeWarning: Columns (2,4,6,7,8,9,10,11,12,13,14,15,16,17,18,19,20,21,22,23,24,26,27,28,29,30,31,32,33,34,35,36,37,38,39,40,41,42,43) have mixed types.Specify dtype option on import or set low_memory=False.\n",
      "  interactivity=interactivity, compiler=compiler, result=result)\n"
     ]
    },
    {
     "name": "stdout",
     "output_type": "stream",
     "text": [
      "nyc_geo_list[:10]:  ['8600000US10271', '8600000US10278', '8600000US10279', '8600000US10280', '8600000US10282', '8600000US10301', '8600000US10302', '8600000US10303', '8600000US10304', '8600000US10305']\n",
      "\n",
      "nyc_only_df rows:  214\n",
      "count_exception:  29\n",
      "sum of population dict value:  8551905\n"
     ]
    },
    {
     "data": {
      "text/html": [
       "<div>\n",
       "<style scoped>\n",
       "    .dataframe tbody tr th:only-of-type {\n",
       "        vertical-align: middle;\n",
       "    }\n",
       "\n",
       "    .dataframe tbody tr th {\n",
       "        vertical-align: top;\n",
       "    }\n",
       "\n",
       "    .dataframe thead th {\n",
       "        text-align: right;\n",
       "    }\n",
       "</style>\n",
       "<table border=\"1\" class=\"dataframe\">\n",
       "  <thead>\n",
       "    <tr style=\"text-align: right;\">\n",
       "      <th></th>\n",
       "      <th>GEO_ID</th>\n",
       "      <th>NAME</th>\n",
       "      <th>Ratio_women_to_men</th>\n",
       "      <th>Percent_hispanic_or_latino</th>\n",
       "    </tr>\n",
       "  </thead>\n",
       "  <tbody>\n",
       "    <tr>\n",
       "      <th>0</th>\n",
       "      <td>8600000US11222</td>\n",
       "      <td>ZCTA5 11222</td>\n",
       "      <td>1.02733</td>\n",
       "      <td>0.142415</td>\n",
       "    </tr>\n",
       "    <tr>\n",
       "      <th>1</th>\n",
       "      <td>8600000US11233</td>\n",
       "      <td>ZCTA5 11233</td>\n",
       "      <td>1.18882</td>\n",
       "      <td>0.159804</td>\n",
       "    </tr>\n",
       "    <tr>\n",
       "      <th>2</th>\n",
       "      <td>8600000US11235</td>\n",
       "      <td>ZCTA5 11235</td>\n",
       "      <td>1.0872</td>\n",
       "      <td>0.0830816</td>\n",
       "    </tr>\n",
       "    <tr>\n",
       "      <th>3</th>\n",
       "      <td>8600000US11426</td>\n",
       "      <td>ZCTA5 11426</td>\n",
       "      <td>1.00241</td>\n",
       "      <td>0.189318</td>\n",
       "    </tr>\n",
       "    <tr>\n",
       "      <th>4</th>\n",
       "      <td>8600000US11427</td>\n",
       "      <td>ZCTA5 11427</td>\n",
       "      <td>1.0223</td>\n",
       "      <td>0.194533</td>\n",
       "    </tr>\n",
       "  </tbody>\n",
       "</table>\n",
       "</div>"
      ],
      "text/plain": [
       "           GEO_ID         NAME Ratio_women_to_men Percent_hispanic_or_latino\n",
       "0  8600000US11222  ZCTA5 11222            1.02733                   0.142415\n",
       "1  8600000US11233  ZCTA5 11233            1.18882                   0.159804\n",
       "2  8600000US11235  ZCTA5 11235             1.0872                  0.0830816\n",
       "3  8600000US11426  ZCTA5 11426            1.00241                   0.189318\n",
       "4  8600000US11427  ZCTA5 11427             1.0223                   0.194533"
      ]
     },
     "execution_count": 111,
     "metadata": {},
     "output_type": "execute_result"
    }
   ],
   "source": [
    "# read data\n",
    "B03002_dir_path = 'ACSDT5Y2018.B03002_2020-04-15T173950/'\n",
    "B03002_file_name = 'ACSDT5Y2018.B03002_data_with_overlays_2020-04-15T173937.csv'\n",
    "B03002_df = pd.read_csv(data_dir_path + B03002_dir_path + B03002_file_name)\n",
    "\n",
    "# get nyc only data frame\n",
    "B03002_nyc_only_df = get_nyc_only_df(B03002_df, zcta5_list)\n",
    "\n",
    "# get the needed features(columns)\n",
    "population_num_feature = 'B03002_001E' # Estimate!!Total\n",
    "hispanic_or_latino_num_feature = 'B03002_012E' # Estimate!!Total!!Hispanic or Latino\n",
    "\n",
    "# double check the population: initialization\n",
    "population_dict_2 = {}\n",
    "\n",
    "# result data frame\n",
    "result_df['Percent_hispanic_or_latino'] = 'None'\n",
    "count_exception = 0\n",
    "for i, row in B03002_nyc_only_df.iterrows():\n",
    "    try:\n",
    "        result_df.loc[result_df['GEO_ID'] == row['GEO_ID'], 'Percent_hispanic_or_latino'] = row[hispanic_or_latino_num_feature]/row[population_num_feature]\n",
    "    except:\n",
    "        # print(i)\n",
    "        # print('row[hispanic_or_latino_num_feature]: ', row[hispanic_or_latino_num_feature])\n",
    "        # print('row[total_ethnicity_num_feature]: ', row[total_ethnicity_num_feature])\n",
    "        count_exception += 1\n",
    "        result_df.loc[result_df['GEO_ID'] == row['GEO_ID'], 'Percent_hispanic_or_latino'] = 'None' # Both value are zeros\n",
    "    \n",
    "    # double check the population\n",
    "    if row['GEO_ID'] in population_dict_2:\n",
    "        print('we already have one')\n",
    "    population_dict_2[row['GEO_ID']] = row[population_num_feature]\n",
    "\n",
    "print('count_exception: ', count_exception)\n",
    "\n",
    "# test if we get the right population\n",
    "# print('population_dict_2: ', population_dict_2)\n",
    "print('sum of population dict value: ', sum([v for _, v in population_dict_2.items()])) # 8551905 is as same as before\n",
    "    \n",
    "result_df.head()\n"
   ]
  },
  {
   "cell_type": "markdown",
   "metadata": {},
   "source": [
    "### 3. Percent white (alone or in combination): B02008"
   ]
  },
  {
   "cell_type": "code",
   "execution_count": 112,
   "metadata": {},
   "outputs": [
    {
     "name": "stdout",
     "output_type": "stream",
     "text": [
      "nyc_geo_list[:10]:  ['8600000US10271', '8600000US10278', '8600000US10279', '8600000US10280', '8600000US10282', '8600000US10301', '8600000US10302', '8600000US10303', '8600000US10304', '8600000US10305']\n",
      "\n",
      "nyc_only_df rows:  214\n",
      "count_exception:  29\n"
     ]
    },
    {
     "data": {
      "text/html": [
       "<div>\n",
       "<style scoped>\n",
       "    .dataframe tbody tr th:only-of-type {\n",
       "        vertical-align: middle;\n",
       "    }\n",
       "\n",
       "    .dataframe tbody tr th {\n",
       "        vertical-align: top;\n",
       "    }\n",
       "\n",
       "    .dataframe thead th {\n",
       "        text-align: right;\n",
       "    }\n",
       "</style>\n",
       "<table border=\"1\" class=\"dataframe\">\n",
       "  <thead>\n",
       "    <tr style=\"text-align: right;\">\n",
       "      <th></th>\n",
       "      <th>GEO_ID</th>\n",
       "      <th>NAME</th>\n",
       "      <th>Ratio_women_to_men</th>\n",
       "      <th>Percent_hispanic_or_latino</th>\n",
       "      <th>Percent_white</th>\n",
       "    </tr>\n",
       "  </thead>\n",
       "  <tbody>\n",
       "    <tr>\n",
       "      <th>0</th>\n",
       "      <td>8600000US11222</td>\n",
       "      <td>ZCTA5 11222</td>\n",
       "      <td>1.02733</td>\n",
       "      <td>0.142415</td>\n",
       "      <td>0.856516</td>\n",
       "    </tr>\n",
       "    <tr>\n",
       "      <th>1</th>\n",
       "      <td>8600000US11233</td>\n",
       "      <td>ZCTA5 11233</td>\n",
       "      <td>1.18882</td>\n",
       "      <td>0.159804</td>\n",
       "      <td>0.101069</td>\n",
       "    </tr>\n",
       "    <tr>\n",
       "      <th>2</th>\n",
       "      <td>8600000US11235</td>\n",
       "      <td>ZCTA5 11235</td>\n",
       "      <td>1.0872</td>\n",
       "      <td>0.0830816</td>\n",
       "      <td>0.77574</td>\n",
       "    </tr>\n",
       "    <tr>\n",
       "      <th>3</th>\n",
       "      <td>8600000US11426</td>\n",
       "      <td>ZCTA5 11426</td>\n",
       "      <td>1.00241</td>\n",
       "      <td>0.189318</td>\n",
       "      <td>0.403394</td>\n",
       "    </tr>\n",
       "    <tr>\n",
       "      <th>4</th>\n",
       "      <td>8600000US11427</td>\n",
       "      <td>ZCTA5 11427</td>\n",
       "      <td>1.0223</td>\n",
       "      <td>0.194533</td>\n",
       "      <td>0.310646</td>\n",
       "    </tr>\n",
       "  </tbody>\n",
       "</table>\n",
       "</div>"
      ],
      "text/plain": [
       "           GEO_ID         NAME Ratio_women_to_men Percent_hispanic_or_latino  \\\n",
       "0  8600000US11222  ZCTA5 11222            1.02733                   0.142415   \n",
       "1  8600000US11233  ZCTA5 11233            1.18882                   0.159804   \n",
       "2  8600000US11235  ZCTA5 11235             1.0872                  0.0830816   \n",
       "3  8600000US11426  ZCTA5 11426            1.00241                   0.189318   \n",
       "4  8600000US11427  ZCTA5 11427             1.0223                   0.194533   \n",
       "\n",
       "  Percent_white  \n",
       "0      0.856516  \n",
       "1      0.101069  \n",
       "2       0.77574  \n",
       "3      0.403394  \n",
       "4      0.310646  "
      ]
     },
     "execution_count": 112,
     "metadata": {},
     "output_type": "execute_result"
    }
   ],
   "source": [
    "# read data\n",
    "B02008_dir_path = 'ACSDT5Y2018.B02008_2020-04-15T181228/'\n",
    "B02008_file_name = 'ACSDT5Y2018.B02008_data_with_overlays_2020-04-15T181224.csv'\n",
    "B02008_df = pd.read_csv(data_dir_path + B02008_dir_path + B02008_file_name)\n",
    "\n",
    "# get nyc only data frame\n",
    "B02008_nyc_only_df = get_nyc_only_df(B02008_df, zcta5_list)\n",
    "B02008_nyc_only_df\n",
    "\n",
    "# get the needed features(columns)\n",
    "white_num_feature = 'B02008_001E' # Estimate!!Total\n",
    "\n",
    "# print('population_dict: ', population_dict)\n",
    "# # result data frame\n",
    "result_df['Percent_white'] = 'None'\n",
    "count_exception = 0\n",
    "for i, row in B02008_nyc_only_df.iterrows():   \n",
    "    try:\n",
    "        result_df.loc[result_df['GEO_ID'] == row['GEO_ID'], 'Percent_white'] = float(row[white_num_feature])/population_dict[row['GEO_ID']]\n",
    "    except:\n",
    "        # print(i)\n",
    "        # print('row[white_num_feature]: ', row[white_num_feature])\n",
    "        # print('population_dict[row[GEO_ID]]: ', population_dict[row['GEO_ID']])\n",
    "        count_exception += 1\n",
    "        result_df.loc[result_df['GEO_ID'] == row['GEO_ID'], 'Percent_white'] = 'None' # Both value are zeros\n",
    "\n",
    "print('count_exception: ', count_exception)\n",
    "result_df.head()\n"
   ]
  },
  {
   "cell_type": "markdown",
   "metadata": {},
   "source": [
    "### 4. Percent black or African American (alone or in combination): B02009"
   ]
  },
  {
   "cell_type": "code",
   "execution_count": 113,
   "metadata": {},
   "outputs": [
    {
     "name": "stdout",
     "output_type": "stream",
     "text": [
      "nyc_geo_list[:10]:  ['8600000US10271', '8600000US10278', '8600000US10279', '8600000US10280', '8600000US10282', '8600000US10301', '8600000US10302', '8600000US10303', '8600000US10304', '8600000US10305']\n",
      "\n",
      "nyc_only_df rows:  214\n",
      "count_exception:  29\n"
     ]
    },
    {
     "data": {
      "text/html": [
       "<div>\n",
       "<style scoped>\n",
       "    .dataframe tbody tr th:only-of-type {\n",
       "        vertical-align: middle;\n",
       "    }\n",
       "\n",
       "    .dataframe tbody tr th {\n",
       "        vertical-align: top;\n",
       "    }\n",
       "\n",
       "    .dataframe thead th {\n",
       "        text-align: right;\n",
       "    }\n",
       "</style>\n",
       "<table border=\"1\" class=\"dataframe\">\n",
       "  <thead>\n",
       "    <tr style=\"text-align: right;\">\n",
       "      <th></th>\n",
       "      <th>GEO_ID</th>\n",
       "      <th>NAME</th>\n",
       "      <th>Ratio_women_to_men</th>\n",
       "      <th>Percent_hispanic_or_latino</th>\n",
       "      <th>Percent_white</th>\n",
       "      <th>Percent_black</th>\n",
       "    </tr>\n",
       "  </thead>\n",
       "  <tbody>\n",
       "    <tr>\n",
       "      <th>0</th>\n",
       "      <td>8600000US11222</td>\n",
       "      <td>ZCTA5 11222</td>\n",
       "      <td>1.02733</td>\n",
       "      <td>0.142415</td>\n",
       "      <td>0.856516</td>\n",
       "      <td>0.0543407</td>\n",
       "    </tr>\n",
       "    <tr>\n",
       "      <th>1</th>\n",
       "      <td>8600000US11233</td>\n",
       "      <td>ZCTA5 11233</td>\n",
       "      <td>1.18882</td>\n",
       "      <td>0.159804</td>\n",
       "      <td>0.101069</td>\n",
       "      <td>0.803825</td>\n",
       "    </tr>\n",
       "    <tr>\n",
       "      <th>2</th>\n",
       "      <td>8600000US11235</td>\n",
       "      <td>ZCTA5 11235</td>\n",
       "      <td>1.0872</td>\n",
       "      <td>0.0830816</td>\n",
       "      <td>0.77574</td>\n",
       "      <td>0.0294773</td>\n",
       "    </tr>\n",
       "    <tr>\n",
       "      <th>3</th>\n",
       "      <td>8600000US11426</td>\n",
       "      <td>ZCTA5 11426</td>\n",
       "      <td>1.00241</td>\n",
       "      <td>0.189318</td>\n",
       "      <td>0.403394</td>\n",
       "      <td>0.0756214</td>\n",
       "    </tr>\n",
       "    <tr>\n",
       "      <th>4</th>\n",
       "      <td>8600000US11427</td>\n",
       "      <td>ZCTA5 11427</td>\n",
       "      <td>1.0223</td>\n",
       "      <td>0.194533</td>\n",
       "      <td>0.310646</td>\n",
       "      <td>0.220909</td>\n",
       "    </tr>\n",
       "  </tbody>\n",
       "</table>\n",
       "</div>"
      ],
      "text/plain": [
       "           GEO_ID         NAME Ratio_women_to_men Percent_hispanic_or_latino  \\\n",
       "0  8600000US11222  ZCTA5 11222            1.02733                   0.142415   \n",
       "1  8600000US11233  ZCTA5 11233            1.18882                   0.159804   \n",
       "2  8600000US11235  ZCTA5 11235             1.0872                  0.0830816   \n",
       "3  8600000US11426  ZCTA5 11426            1.00241                   0.189318   \n",
       "4  8600000US11427  ZCTA5 11427             1.0223                   0.194533   \n",
       "\n",
       "  Percent_white Percent_black  \n",
       "0      0.856516     0.0543407  \n",
       "1      0.101069      0.803825  \n",
       "2       0.77574     0.0294773  \n",
       "3      0.403394     0.0756214  \n",
       "4      0.310646      0.220909  "
      ]
     },
     "execution_count": 113,
     "metadata": {},
     "output_type": "execute_result"
    }
   ],
   "source": [
    "# read data\n",
    "B02009_dir_path = 'ACSDT5Y2018.B02009_2020-04-15T180039/'\n",
    "B02009_file_name = 'ACSDT5Y2018.B02009_data_with_overlays_2020-04-15T180030.csv'\n",
    "B02009_df = pd.read_csv(data_dir_path + B02009_dir_path + B02009_file_name)\n",
    "\n",
    "# get nyc only data frame\n",
    "B02009_nyc_only_df = get_nyc_only_df(B02009_df, zcta5_list)\n",
    "B02009_nyc_only_df\n",
    "\n",
    "# get the needed features(columns)\n",
    "black_num_feature = 'B02009_001E' # Estimate!!Total\n",
    "\n",
    "# # result data frame\n",
    "result_df['Percent_black'] = 'None'\n",
    "count_exception = 0\n",
    "for i, row in B02009_nyc_only_df.iterrows():   \n",
    "    try:\n",
    "        result_df.loc[result_df['GEO_ID'] == row['GEO_ID'], 'Percent_black'] = float(row[black_num_feature])/population_dict[row['GEO_ID']]\n",
    "    except:\n",
    "        # print(i)\n",
    "        # print('row[black_num_feature]: ', row[black_num_feature])\n",
    "        # print('population_dict[row[GEO_ID]]: ', population_dict[row['GEO_ID']])\n",
    "        count_exception += 1\n",
    "        result_df.loc[result_df['GEO_ID'] == row['GEO_ID'], 'Percent_black'] = 'None' # Both value are zeros\n",
    "\n",
    "print('count_exception: ', count_exception)\n",
    "result_df.head()\n"
   ]
  },
  {
   "cell_type": "code",
   "execution_count": null,
   "metadata": {},
   "outputs": [],
   "source": []
  },
  {
   "cell_type": "code",
   "execution_count": null,
   "metadata": {},
   "outputs": [],
   "source": []
  },
  {
   "cell_type": "code",
   "execution_count": null,
   "metadata": {},
   "outputs": [],
   "source": []
  },
  {
   "cell_type": "code",
   "execution_count": null,
   "metadata": {},
   "outputs": [],
   "source": []
  },
  {
   "cell_type": "code",
   "execution_count": null,
   "metadata": {},
   "outputs": [],
   "source": []
  },
  {
   "cell_type": "code",
   "execution_count": null,
   "metadata": {},
   "outputs": [],
   "source": []
  }
 ],
 "metadata": {
  "kernelspec": {
   "display_name": "Python 3",
   "language": "python",
   "name": "python3"
  },
  "language_info": {
   "codemirror_mode": {
    "name": "ipython",
    "version": 3
   },
   "file_extension": ".py",
   "mimetype": "text/x-python",
   "name": "python",
   "nbconvert_exporter": "python",
   "pygments_lexer": "ipython3",
   "version": "3.6.9"
  }
 },
 "nbformat": 4,
 "nbformat_minor": 2
}
