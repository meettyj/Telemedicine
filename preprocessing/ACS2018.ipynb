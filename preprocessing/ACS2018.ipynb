{
 "cells": [
  {
   "cell_type": "code",
   "execution_count": 2,
   "metadata": {},
   "outputs": [],
   "source": [
    "import pandas as pd "
   ]
  },
  {
   "cell_type": "code",
   "execution_count": 7,
   "metadata": {},
   "outputs": [],
   "source": [
    "data_dir_path = '../data/'\n"
   ]
  },
  {
   "cell_type": "code",
   "execution_count": 25,
   "metadata": {},
   "outputs": [
    {
     "name": "stdout",
     "output_type": "stream",
     "text": [
      "length of zcta5_list:  214\n",
      "zcta5_list[:10]:  ['10271', '10278', '10279', '10280', '10282', '10301', '10302', '10303', '10304', '10305']\n"
     ]
    }
   ],
   "source": [
    "def get_nyc_zcta5():\n",
    "    zcta5_file_name = 'zip_to_zcta10_nyc_revised.xls'\n",
    "    zcta5_df = pd.read_excel(data_dir_path + zcta5_file_name)\n",
    "    zcta5_list = [str(x) for x in set(zcta5_df['zcta5'])]\n",
    "    return zcta5_list\n",
    "zcta5_list = get_nyc_zcta5()\n",
    "print('length of zcta5_list: ', len(zcta5_list))\n",
    "print('zcta5_list[:10]: ', zcta5_list[:10])"
   ]
  },
  {
   "cell_type": "code",
   "execution_count": 46,
   "metadata": {},
   "outputs": [],
   "source": [
    "def get_nyc_only_df(input_df, zcta5_list):\n",
    "    nyc_geo_list = ['8600000US' + x for x in zcta5_list]\n",
    "    print('nyc_geo_list[:10]: ', nyc_geo_list[:10])\n",
    "    # print(input_df['GEO_ID'].isin(nyc_geo_list))\n",
    "    nyc_only_df = input_df[input_df['GEO_ID'].isin(nyc_geo_list)]\n",
    "    nyc_only_df.index = range(len(nyc_only_df)) # set the index from 0\n",
    "    print()\n",
    "    print('nyc_only_df rows: ', nyc_only_df.shape[0])\n",
    "    return nyc_only_df"
   ]
  },
  {
   "cell_type": "markdown",
   "metadata": {},
   "source": [
    "### Ratio of women to men (all ages)"
   ]
  },
  {
   "cell_type": "code",
   "execution_count": 47,
   "metadata": {},
   "outputs": [
    {
     "name": "stderr",
     "output_type": "stream",
     "text": [
      "/Users/meettyj/anaconda3/envs/py36/lib/python3.6/site-packages/IPython/core/interactiveshell.py:3051: DtypeWarning: Columns (2,4,5,6,7,8,9,10,11,12,13,14,15,16,17,18,19,20,21,22,23,24,25,26,27,28,29,30,31,32,33,34,35,36,37,38,39,40,41,42,43,44,45,46,47) have mixed types.Specify dtype option on import or set low_memory=False.\n",
      "  interactivity=interactivity, compiler=compiler, result=result)\n"
     ]
    },
    {
     "name": "stdout",
     "output_type": "stream",
     "text": [
      "nyc_geo_list[:10]:  ['8600000US10271', '8600000US10278', '8600000US10279', '8600000US10280', '8600000US10282', '8600000US10301', '8600000US10302', '8600000US10303', '8600000US10304', '8600000US10305']\n",
      "\n",
      "nyc_only_df rows:  214\n"
     ]
    },
    {
     "data": {
      "text/html": [
       "<div>\n",
       "<style scoped>\n",
       "    .dataframe tbody tr th:only-of-type {\n",
       "        vertical-align: middle;\n",
       "    }\n",
       "\n",
       "    .dataframe tbody tr th {\n",
       "        vertical-align: top;\n",
       "    }\n",
       "\n",
       "    .dataframe thead th {\n",
       "        text-align: right;\n",
       "    }\n",
       "</style>\n",
       "<table border=\"1\" class=\"dataframe\">\n",
       "  <thead>\n",
       "    <tr style=\"text-align: right;\">\n",
       "      <th></th>\n",
       "      <th>GEO_ID</th>\n",
       "      <th>NAME</th>\n",
       "      <th>Ratio_women_to_men</th>\n",
       "    </tr>\n",
       "  </thead>\n",
       "  <tbody>\n",
       "    <tr>\n",
       "      <th>0</th>\n",
       "      <td>8600000US11222</td>\n",
       "      <td>ZCTA5 11222</td>\n",
       "      <td>1.02733</td>\n",
       "    </tr>\n",
       "    <tr>\n",
       "      <th>1</th>\n",
       "      <td>8600000US11233</td>\n",
       "      <td>ZCTA5 11233</td>\n",
       "      <td>1.18882</td>\n",
       "    </tr>\n",
       "    <tr>\n",
       "      <th>2</th>\n",
       "      <td>8600000US11235</td>\n",
       "      <td>ZCTA5 11235</td>\n",
       "      <td>1.0872</td>\n",
       "    </tr>\n",
       "    <tr>\n",
       "      <th>3</th>\n",
       "      <td>8600000US11426</td>\n",
       "      <td>ZCTA5 11426</td>\n",
       "      <td>1.00241</td>\n",
       "    </tr>\n",
       "    <tr>\n",
       "      <th>4</th>\n",
       "      <td>8600000US11427</td>\n",
       "      <td>ZCTA5 11427</td>\n",
       "      <td>1.0223</td>\n",
       "    </tr>\n",
       "    <tr>\n",
       "      <th>...</th>\n",
       "      <td>...</td>\n",
       "      <td>...</td>\n",
       "      <td>...</td>\n",
       "    </tr>\n",
       "    <tr>\n",
       "      <th>209</th>\n",
       "      <td>8600000US11218</td>\n",
       "      <td>ZCTA5 11218</td>\n",
       "      <td>0.984869</td>\n",
       "    </tr>\n",
       "    <tr>\n",
       "      <th>210</th>\n",
       "      <td>8600000US11223</td>\n",
       "      <td>ZCTA5 11223</td>\n",
       "      <td>1.03896</td>\n",
       "    </tr>\n",
       "    <tr>\n",
       "      <th>211</th>\n",
       "      <td>8600000US11224</td>\n",
       "      <td>ZCTA5 11224</td>\n",
       "      <td>1.23169</td>\n",
       "    </tr>\n",
       "    <tr>\n",
       "      <th>212</th>\n",
       "      <td>8600000US11373</td>\n",
       "      <td>ZCTA5 11373</td>\n",
       "      <td>0.997683</td>\n",
       "    </tr>\n",
       "    <tr>\n",
       "      <th>213</th>\n",
       "      <td>8600000US11693</td>\n",
       "      <td>ZCTA5 11693</td>\n",
       "      <td>1.04803</td>\n",
       "    </tr>\n",
       "  </tbody>\n",
       "</table>\n",
       "<p>214 rows × 3 columns</p>\n",
       "</div>"
      ],
      "text/plain": [
       "             GEO_ID         NAME Ratio_women_to_men\n",
       "0    8600000US11222  ZCTA5 11222            1.02733\n",
       "1    8600000US11233  ZCTA5 11233            1.18882\n",
       "2    8600000US11235  ZCTA5 11235             1.0872\n",
       "3    8600000US11426  ZCTA5 11426            1.00241\n",
       "4    8600000US11427  ZCTA5 11427             1.0223\n",
       "..              ...          ...                ...\n",
       "209  8600000US11218  ZCTA5 11218           0.984869\n",
       "210  8600000US11223  ZCTA5 11223            1.03896\n",
       "211  8600000US11224  ZCTA5 11224            1.23169\n",
       "212  8600000US11373  ZCTA5 11373           0.997683\n",
       "213  8600000US11693  ZCTA5 11693            1.04803\n",
       "\n",
       "[214 rows x 3 columns]"
      ]
     },
     "execution_count": 47,
     "metadata": {},
     "output_type": "execute_result"
    }
   ],
   "source": [
    "# read data\n",
    "B05003_dir_path = 'ACSDT5Y2018.B05003_2020-04-15T173748/'\n",
    "B05003_file_name = 'ACSDT5Y2018.B05003_data_with_overlays_2020-04-15T173740.csv'\n",
    "B05003_df = pd.read_csv(data_dir_path + B05003_dir_path + B05003_file_name)\n",
    "\n",
    "# get nyc only data frame\n",
    "B05003_nyc_only_df = get_nyc_only_df(B05003_df, zcta5_list)\n",
    "\n",
    "# get the needed features(columns)\n",
    "male_num_feature = 'B05003_002E' # Estimate!!Total!!Male\n",
    "female_num_feature = 'B05003_013E' # Estimate!!Total!!Female\n",
    "\n",
    "# result data frame\n",
    "result_df = pd.DataFrame(columns=['GEO_ID', 'NAME', 'Ratio_women_to_men'])\n",
    "for i, row in B05003_nyc_only_df.iterrows():\n",
    "    try:\n",
    "        result_df.loc[i] = [row['GEO_ID'], row['NAME'], row[female_num_feature]/row[male_num_feature]]\n",
    "    except:\n",
    "        # print(i)\n",
    "        # print('row[female_num_feature]: ', row[female_num_feature])\n",
    "        # print('row[male_num_feature]: ', row[male_num_feature])\n",
    "        result_df.loc[i] = [row['GEO_ID'], row['NAME'], 'None'] # Both row[female_num_feature] and row[male_num_feature] is 0\n",
    "\n",
    "result_df"
   ]
  },
  {
   "cell_type": "code",
   "execution_count": null,
   "metadata": {},
   "outputs": [],
   "source": []
  },
  {
   "cell_type": "code",
   "execution_count": null,
   "metadata": {},
   "outputs": [],
   "source": []
  },
  {
   "cell_type": "code",
   "execution_count": null,
   "metadata": {},
   "outputs": [],
   "source": []
  },
  {
   "cell_type": "code",
   "execution_count": null,
   "metadata": {},
   "outputs": [],
   "source": []
  },
  {
   "cell_type": "code",
   "execution_count": null,
   "metadata": {},
   "outputs": [],
   "source": []
  }
 ],
 "metadata": {
  "kernelspec": {
   "display_name": "Python 3",
   "language": "python",
   "name": "python3"
  },
  "language_info": {
   "codemirror_mode": {
    "name": "ipython",
    "version": 3
   },
   "file_extension": ".py",
   "mimetype": "text/x-python",
   "name": "python",
   "nbconvert_exporter": "python",
   "pygments_lexer": "ipython3",
   "version": "3.6.9"
  }
 },
 "nbformat": 4,
 "nbformat_minor": 2
}
